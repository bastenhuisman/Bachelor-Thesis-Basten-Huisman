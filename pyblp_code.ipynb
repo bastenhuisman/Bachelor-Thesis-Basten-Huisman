{
 "cells": [
  {
   "cell_type": "code",
   "execution_count": 2,
   "metadata": {},
   "outputs": [
    {
     "data": {
      "text/plain": [
       "'1.1.0'"
      ]
     },
     "execution_count": 2,
     "metadata": {},
     "output_type": "execute_result"
    }
   ],
   "source": [
    "#Import the relevant packages\n",
    "\n",
    "import pyblp\n",
    "import numpy as np\n",
    "import pandas as pd\n",
    "\n",
    "pyblp.options.digits = 2\n",
    "pyblp.options.verbose = False\n",
    "pyblp.__version__"
   ]
  },
  {
   "cell_type": "code",
   "execution_count": null,
   "metadata": {},
   "outputs": [],
   "source": [
    "#Load the data\n",
    "product_data = pd.read_csv('pyblp_v5.csv')\n",
    "product_data.head()"
   ]
  },
  {
   "cell_type": "code",
   "execution_count": null,
   "metadata": {},
   "outputs": [],
   "source": [
    "#First estimate with BLP:\n",
    "\n",
    "#Formulate the variables for the linear parameters:\n",
    "X1_formulation = pyblp.Formulation('1 + prices +  alcohol + whiskey + vodka + rum + american')\n",
    "\n",
    "#Formulate the variables for the non-linear parameters:\n",
    "X2_formulation = pyblp.Formulation('0 + prices')\n",
    "\n",
    "#Obtain product formulation\n",
    "product_formulations = (X1_formulation, X2_formulation)\n",
    "product_formulations"
   ]
  },
  {
   "cell_type": "code",
   "execution_count": null,
   "metadata": {},
   "outputs": [],
   "source": [
    "#Specify the method to approximate the integral in order to obtain mean utility\n",
    "#, in our case we make use of Gauss-Hermite Quadrature Rule\n",
    "pr_integration = pyblp.Integration('product', size=20)\n",
    "pr_integration"
   ]
  },
  {
   "cell_type": "code",
   "execution_count": null,
   "metadata": {},
   "outputs": [],
   "source": [
    "#Specify the optimization algorithm, we use BFGS\n",
    "bfgs = pyblp.Optimization('bfgs', {'gtol': 1e-4})\n",
    "bfgs"
   ]
  },
  {
   "cell_type": "code",
   "execution_count": null,
   "metadata": {},
   "outputs": [],
   "source": [
    "#Formulate the problem\n",
    "pr_problem = pyblp.Problem(product_formulations, product_data, integration=pr_integration)\n",
    "pr_problem"
   ]
  },
  {
   "cell_type": "code",
   "execution_count": null,
   "metadata": {},
   "outputs": [],
   "source": [
    "#Obtain results for BLP:\n",
    "blp_results = pr_problem.solve(sigma=1, optimization=bfgs)\n",
    "blp_results"
   ]
  },
  {
   "cell_type": "code",
   "execution_count": null,
   "metadata": {},
   "outputs": [],
   "source": [
    "#Create function for RCNL:\n",
    "\n",
    "def solve_rcnl(df):\n",
    "    groups = df.groupby(['market_ids', 'nesting_ids'])\n",
    "    df['demand_instruments2'] = groups['shares'].transform(np.size)\n",
    "    X1_formulation = pyblp.Formulation('1 + prices +  alcohol + american')\n",
    "    X2_formulation = pyblp.Formulation('0 + prices')\n",
    "    product_formulations = (X1_formulation, X2_formulation)\n",
    "    pr_integration = pyblp.Integration('product', size=20)\n",
    "    bfgs = pyblp.Optimization('bfgs', {'gtol': 1e-4})\n",
    "    pr_problem = pyblp.Problem(product_formulations, df, integration=pr_integration)\n",
    "    results = pr_problem.solve(sigma=1, optimization=bfgs,rho=0.7)\n",
    "    return results"
   ]
  },
  {
   "cell_type": "code",
   "execution_count": null,
   "metadata": {},
   "outputs": [],
   "source": [
    "df2 = product_data.copy()\n",
    "df2['nesting_ids'] = df2['whiskey']\n",
    "rum = df2['rum'] == 1\n",
    "other = df2['product_ids'].isin([13,19,14,20,15])\n",
    "df2.loc[rum,'nesting_ids'] = 3\n",
    "df2.loc[other,'nesting_ids'] = 4"
   ]
  },
  {
   "cell_type": "code",
   "execution_count": null,
   "metadata": {},
   "outputs": [],
   "source": [
    "rcnl_results = solve_rcnl(df2)\n",
    "rcnl_results"
   ]
  }
 ],
 "metadata": {
  "kernelspec": {
   "display_name": "Python 3",
   "language": "python",
   "name": "python3"
  },
  "language_info": {
   "codemirror_mode": {
    "name": "ipython",
    "version": 3
   },
   "file_extension": ".py",
   "mimetype": "text/x-python",
   "name": "python",
   "nbconvert_exporter": "python",
   "pygments_lexer": "ipython3",
   "version": "3.11.0"
  }
 },
 "nbformat": 4,
 "nbformat_minor": 2
}
